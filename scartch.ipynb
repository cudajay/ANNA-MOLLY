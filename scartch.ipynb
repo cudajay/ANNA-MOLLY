{
 "cells": [
  {
   "cell_type": "code",
   "execution_count": 15,
   "metadata": {},
   "outputs": [
    {
     "name": "stdout",
     "output_type": "stream",
     "text": [
      "Python 3.6.7\r\n"
     ]
    }
   ],
   "source": [
    "!python3 --version"
   ]
  },
  {
   "cell_type": "code",
   "execution_count": 1,
   "metadata": {},
   "outputs": [
    {
     "name": "stdout",
     "output_type": "stream",
     "text": [
      "2.6.2\n"
     ]
    }
   ],
   "source": [
    "import multiprocessing as mp\n",
    "import os\n",
    "import numpy as np\n",
    "import pandas as pd\n",
    "from matplotlib import pyplot as plt\n",
    "from keras.callbacks import History, EarlyStopping, Callback\n",
    "import tensorflow as tf\n",
    "print(tf.version.VERSION)"
   ]
  },
  {
   "cell_type": "code",
   "execution_count": 17,
   "metadata": {},
   "outputs": [
    {
     "name": "stdout",
     "output_type": "stream",
     "text": [
      "Jerry\n"
     ]
    }
   ],
   "source": [
    "test_list = [\n",
    "\t{'Course': \"C++\", 'Author': \"Jerry\"},\n",
    "\t{'Course': \"Python\", 'Author': \"Mark\"},\n",
    "\t{'Course': \"Java\", 'Author': \"Paul\"}]\n",
    "\n",
    "res = list(filter(lambda test_list: test_list['Author'] == 'Jerry', test_list))\n",
    "print(res[0]['Author'])\n",
    "\n"
   ]
  },
  {
   "cell_type": "code",
   "execution_count": 19,
   "metadata": {},
   "outputs": [],
   "source": [
    "class Parallel_Params:\n",
    "    def __init__(self, config, i, chan_id, rid):\n",
    "        self.config = config\n",
    "        self.i = i\n",
    "        self.chan_id = chan_id\n",
    "        self.id =rid"
   ]
  },
  {
   "cell_type": "code",
   "execution_count": 20,
   "metadata": {},
   "outputs": [],
   "source": [
    "l = []\n",
    "for i in range(3):\n",
    "    l.append(Parallel_Params(\"c\", 1,i,2))"
   ]
  },
  {
   "cell_type": "code",
   "execution_count": 23,
   "metadata": {},
   "outputs": [
    {
     "name": "stdout",
     "output_type": "stream",
     "text": [
      "<__main__.Parallel_Params object at 0x2aaab65bb588>\n",
      "<__main__.Parallel_Params object at 0x2aaab65bb710>\n",
      "<__main__.Parallel_Params object at 0x2aaab65bb048>\n"
     ]
    }
   ],
   "source": [
    "for i in iter(l):\n",
    "    print(i)"
   ]
  },
  {
   "cell_type": "code",
   "execution_count": 4,
   "metadata": {},
   "outputs": [
    {
     "data": {
      "text/plain": [
       "'/users/juanjose/git/telemanom/telemanom'"
      ]
     },
     "execution_count": 4,
     "metadata": {},
     "output_type": "execute_result"
    }
   ],
   "source": [
    "os.chdir('telemanom')\n",
    "os.getcwd()"
   ]
  },
  {
   "cell_type": "code",
   "execution_count": 5,
   "metadata": {},
   "outputs": [],
   "source": [
    "from channel import Channel\n",
    "from helpers import Config"
   ]
  },
  {
   "cell_type": "code",
   "execution_count": 6,
   "metadata": {},
   "outputs": [],
   "source": [
    "cfg = Config(\"config.yaml\")"
   ]
  },
  {
   "cell_type": "code",
   "execution_count": 9,
   "metadata": {},
   "outputs": [],
   "source": [
    "ch = Channel(cfg, 'A-2')"
   ]
  },
  {
   "cell_type": "code",
   "execution_count": 10,
   "metadata": {},
   "outputs": [
    {
     "name": "stderr",
     "output_type": "stream",
     "text": [
      "[Errno 2] No such file or directory: 'data/train/A-2.npy'\n",
      "Source data not found, may need to add data to repo: <link>\n"
     ]
    },
    {
     "ename": "TypeError",
     "evalue": "object of type 'NoneType' has no len()",
     "output_type": "error",
     "traceback": [
      "\u001b[0;31m---------------------------------------------------------------------------\u001b[0m",
      "\u001b[0;31mTypeError\u001b[0m                                 Traceback (most recent call last)",
      "\u001b[0;32m<ipython-input-10-d579d112aafd>\u001b[0m in \u001b[0;36m<module>\u001b[0;34m\u001b[0m\n\u001b[0;32m----> 1\u001b[0;31m \u001b[0mch\u001b[0m\u001b[0;34m.\u001b[0m\u001b[0mload_data\u001b[0m\u001b[0;34m(\u001b[0m\u001b[0;34m)\u001b[0m\u001b[0;34m\u001b[0m\u001b[0;34m\u001b[0m\u001b[0m\n\u001b[0m",
      "\u001b[0;32m~/git/telemanom/telemanom/channel.py\u001b[0m in \u001b[0;36mload_data\u001b[0;34m(self)\u001b[0m\n\u001b[1;32m     79\u001b[0m             \u001b[0mlogger\u001b[0m\u001b[0;34m.\u001b[0m\u001b[0mcritical\u001b[0m\u001b[0;34m(\u001b[0m\u001b[0;34m\"Source data not found, may need to add data to repo: <link>\"\u001b[0m\u001b[0;34m)\u001b[0m\u001b[0;34m\u001b[0m\u001b[0;34m\u001b[0m\u001b[0m\n\u001b[1;32m     80\u001b[0m \u001b[0;34m\u001b[0m\u001b[0m\n\u001b[0;32m---> 81\u001b[0;31m         \u001b[0mself\u001b[0m\u001b[0;34m.\u001b[0m\u001b[0mshape_data\u001b[0m\u001b[0;34m(\u001b[0m\u001b[0mself\u001b[0m\u001b[0;34m.\u001b[0m\u001b[0mtrain\u001b[0m\u001b[0;34m)\u001b[0m\u001b[0;34m\u001b[0m\u001b[0;34m\u001b[0m\u001b[0m\n\u001b[0m\u001b[1;32m     82\u001b[0m         \u001b[0mself\u001b[0m\u001b[0;34m.\u001b[0m\u001b[0mshape_data\u001b[0m\u001b[0;34m(\u001b[0m\u001b[0mself\u001b[0m\u001b[0;34m.\u001b[0m\u001b[0mtest\u001b[0m\u001b[0;34m,\u001b[0m \u001b[0mtrain\u001b[0m\u001b[0;34m=\u001b[0m\u001b[0;32mFalse\u001b[0m\u001b[0;34m)\u001b[0m\u001b[0;34m\u001b[0m\u001b[0;34m\u001b[0m\u001b[0m\n",
      "\u001b[0;32m~/git/telemanom/telemanom/channel.py\u001b[0m in \u001b[0;36mshape_data\u001b[0;34m(self, arr, train)\u001b[0m\n\u001b[1;32m     53\u001b[0m \u001b[0;34m\u001b[0m\u001b[0m\n\u001b[1;32m     54\u001b[0m         \u001b[0mdata\u001b[0m \u001b[0;34m=\u001b[0m \u001b[0;34m[\u001b[0m\u001b[0;34m]\u001b[0m\u001b[0;34m\u001b[0m\u001b[0;34m\u001b[0m\u001b[0m\n\u001b[0;32m---> 55\u001b[0;31m         \u001b[0;32mfor\u001b[0m \u001b[0mi\u001b[0m \u001b[0;32min\u001b[0m \u001b[0mrange\u001b[0m\u001b[0;34m(\u001b[0m\u001b[0mlen\u001b[0m\u001b[0;34m(\u001b[0m\u001b[0marr\u001b[0m\u001b[0;34m)\u001b[0m \u001b[0;34m-\u001b[0m \u001b[0mself\u001b[0m\u001b[0;34m.\u001b[0m\u001b[0mconfig\u001b[0m\u001b[0;34m.\u001b[0m\u001b[0ml_s\u001b[0m \u001b[0;34m-\u001b[0m \u001b[0mself\u001b[0m\u001b[0;34m.\u001b[0m\u001b[0mconfig\u001b[0m\u001b[0;34m.\u001b[0m\u001b[0mn_predictions\u001b[0m\u001b[0;34m)\u001b[0m\u001b[0;34m:\u001b[0m\u001b[0;34m\u001b[0m\u001b[0;34m\u001b[0m\u001b[0m\n\u001b[0m\u001b[1;32m     56\u001b[0m             \u001b[0mdata\u001b[0m\u001b[0;34m.\u001b[0m\u001b[0mappend\u001b[0m\u001b[0;34m(\u001b[0m\u001b[0marr\u001b[0m\u001b[0;34m[\u001b[0m\u001b[0mi\u001b[0m\u001b[0;34m:\u001b[0m\u001b[0mi\u001b[0m \u001b[0;34m+\u001b[0m \u001b[0mself\u001b[0m\u001b[0;34m.\u001b[0m\u001b[0mconfig\u001b[0m\u001b[0;34m.\u001b[0m\u001b[0ml_s\u001b[0m \u001b[0;34m+\u001b[0m \u001b[0mself\u001b[0m\u001b[0;34m.\u001b[0m\u001b[0mconfig\u001b[0m\u001b[0;34m.\u001b[0m\u001b[0mn_predictions\u001b[0m\u001b[0;34m]\u001b[0m\u001b[0;34m)\u001b[0m\u001b[0;34m\u001b[0m\u001b[0;34m\u001b[0m\u001b[0m\n\u001b[1;32m     57\u001b[0m         \u001b[0mdata\u001b[0m \u001b[0;34m=\u001b[0m \u001b[0mnp\u001b[0m\u001b[0;34m.\u001b[0m\u001b[0marray\u001b[0m\u001b[0;34m(\u001b[0m\u001b[0mdata\u001b[0m\u001b[0;34m)\u001b[0m\u001b[0;34m\u001b[0m\u001b[0;34m\u001b[0m\u001b[0m\n",
      "\u001b[0;31mTypeError\u001b[0m: object of type 'NoneType' has no len()"
     ]
    }
   ],
   "source": [
    "ch.load_data()"
   ]
  },
  {
   "cell_type": "code",
   "execution_count": 7,
   "metadata": {},
   "outputs": [],
   "source": [
    "trn = np.load(\"../data/train/A-2.npy\")"
   ]
  },
  {
   "cell_type": "code",
   "execution_count": 8,
   "metadata": {},
   "outputs": [],
   "source": [
    "data = []\n",
    "for i in range(len(trn) - cfg.l_s - cfg.n_predictions):\n",
    "    data.append(trn[i:i + cfg.l_s + cfg.n_predictions])\n",
    "data = np.array(data)\n",
    "\n",
    "assert len(data.shape) == 3\n",
    "np.random.shuffle(data)\n",
    "X_train = data[:, :-cfg.n_predictions, :]\n",
    "y_train = data[:, -cfg.n_predictions:, 0]  # telemetry value is at position 0"
   ]
  },
  {
   "cell_type": "code",
   "execution_count": 9,
   "metadata": {},
   "outputs": [
    {
     "data": {
      "text/plain": [
       "(2388, 250, 25)"
      ]
     },
     "execution_count": 9,
     "metadata": {},
     "output_type": "execute_result"
    }
   ],
   "source": [
    "X_train.shape"
   ]
  },
  {
   "cell_type": "code",
   "execution_count": 54,
   "metadata": {},
   "outputs": [
    {
     "data": {
      "text/plain": [
       "<matplotlib.axes._subplots.AxesSubplot at 0x2aaad9eca898>"
      ]
     },
     "execution_count": 54,
     "metadata": {},
     "output_type": "execute_result"
    },
    {
     "data": {
      "image/png": "[encoded data removed]",
      "text/plain": [
       "<Figure size 432x288 with 1 Axes>"
      ]
     },
     "metadata": {
      "needs_background": "light"
     },
     "output_type": "display_data"
    }
   ],
   "source": [
    "df[0].plot()"
   ]
  },
  {
   "cell_type": "code",
   "execution_count": 10,
   "metadata": {},
   "outputs": [],
   "source": [
    "from keras.layers.recurrent import LSTM\n",
    "from keras.layers import TimeDistributed\n",
    "from keras.layers.core import Dense, Activation, Dropout, Flatten, RepeatVector\n",
    "from keras.layers.convolutional import Conv1D\n",
    "from keras.layers.convolutional import MaxPooling1D\n",
    "from keras.models import Sequential"
   ]
  },
  {
   "cell_type": "code",
   "execution_count": 68,
   "metadata": {},
   "outputs": [],
   "source": [
    "model = Sequential()\n",
    "\n",
    "model.add(LSTM(\n",
    "    cfg.layers[0],\n",
    "    input_shape=(None, trn.shape[1]),\n",
    "    return_sequences=True))\n",
    "model.add(Dropout(cfg.dropout))\n",
    "\n",
    "model.add(LSTM(\n",
    "    cfg.layers[1],\n",
    "    return_sequences=False))\n",
    "model.add(Dropout(cfg.dropout))\n",
    "\n",
    "model.add(Dense(\n",
    "    cfg.n_predictions))\n",
    "model.add(Activation('linear'))"
   ]
  },
  {
   "cell_type": "code",
   "execution_count": 52,
   "metadata": {},
   "outputs": [
    {
     "data": {
      "text/plain": [
       "10"
      ]
     },
     "execution_count": 52,
     "metadata": {},
     "output_type": "execute_result"
    }
   ],
   "source": [
    "cfg.n_predictions"
   ]
  },
  {
   "cell_type": "code",
   "execution_count": 22,
   "metadata": {},
   "outputs": [],
   "source": [
    "model_enc_dec_cnn = Sequential()\n",
    "model_enc_dec_cnn.add(Conv1D(filters=64, kernel_size=9, activation='relu', input_shape=(None, 25)))\n",
    "model_enc_dec_cnn.add(Conv1D(filters=64, kernel_size=11, activation='relu'))\n",
    "model_enc_dec_cnn.add(Dropout(cfg.dropout))\n",
    "model_enc_dec_cnn.add(Dense(\n",
    "    25))\n",
    "model_enc_dec_cnn.add(LSTM(\n",
    "    cfg.layers[1],\n",
    "    return_sequences=False))\n",
    "model_enc_dec_cnn.add(Dropout(cfg.dropout))\n",
    "\n",
    "model_enc_dec_cnn.add(Dense(\n",
    "    cfg.n_predictions))\n",
    "model_enc_dec_cnn.add(Activation('linear'))"
   ]
  },
  {
   "cell_type": "code",
   "execution_count": 24,
   "metadata": {},
   "outputs": [],
   "source": [
    "cbs = [History(), EarlyStopping(monitor='val_loss',\n",
    "                                patience=cfg.patience,\n",
    "                                min_delta=cfg.min_delta,\n",
    "                                verbose=0)]"
   ]
  },
  {
   "cell_type": "code",
   "execution_count": null,
   "metadata": {},
   "outputs": [
    {
     "name": "stdout",
     "output_type": "stream",
     "text": [
      "Epoch 1/35\n",
      "30/30 [==============================] - 21s 606ms/step - loss: 0.1669 - val_loss: 0.0534\n",
      "Epoch 2/35\n",
      "30/30 [==============================] - 18s 587ms/step - loss: 0.0624 - val_loss: 0.0397\n",
      "Epoch 3/35\n",
      "30/30 [==============================] - 18s 589ms/step - loss: 0.0493 - val_loss: 0.0336\n",
      "Epoch 4/35\n",
      "30/30 [==============================] - 17s 582ms/step - loss: 0.0446 - val_loss: 0.0331\n",
      "Epoch 5/35\n",
      "30/30 [==============================] - 18s 589ms/step - loss: 0.0413 - val_loss: 0.0316\n",
      "Epoch 6/35\n",
      "30/30 [==============================] - 18s 589ms/step - loss: 0.0387 - val_loss: 0.0268\n",
      "Epoch 7/35\n",
      "30/30 [==============================] - 18s 592ms/step - loss: 0.0365 - val_loss: 0.0299\n",
      "Epoch 8/35\n",
      "30/30 [==============================] - 18s 591ms/step - loss: 0.0365 - val_loss: 0.0267\n",
      "Epoch 9/35\n",
      "30/30 [==============================] - 17s 582ms/step - loss: 0.0351 - val_loss: 0.0265\n",
      "Epoch 10/35\n",
      "30/30 [==============================] - 17s 583ms/step - loss: 0.0334 - val_loss: 0.0243\n",
      "Epoch 11/35\n",
      "30/30 [==============================] - 18s 591ms/step - loss: 0.0321 - val_loss: 0.0243\n",
      "Epoch 12/35\n",
      "30/30 [==============================] - 18s 591ms/step - loss: 0.0315 - val_loss: 0.0238\n",
      "Epoch 13/35\n",
      "30/30 [==============================] - 17s 583ms/step - loss: 0.0316 - val_loss: 0.0244\n",
      "Epoch 14/35\n",
      "30/30 [==============================] - 17s 584ms/step - loss: 0.0297 - val_loss: 0.0231\n",
      "Epoch 15/35\n",
      "30/30 [==============================] - 17s 578ms/step - loss: 0.0298 - val_loss: 0.0239\n",
      "Epoch 16/35\n",
      "30/30 [==============================] - 17s 582ms/step - loss: 0.0296 - val_loss: 0.0226\n",
      "Epoch 17/35\n",
      "30/30 [==============================] - 17s 580ms/step - loss: 0.0285 - val_loss: 0.0225\n",
      "Epoch 18/35\n",
      "30/30 [==============================] - 17s 581ms/step - loss: 0.0279 - val_loss: 0.0233\n",
      "Epoch 19/35\n",
      "30/30 [==============================] - 18s 585ms/step - loss: 0.0280 - val_loss: 0.0232\n",
      "Epoch 20/35\n",
      "30/30 [==============================] - 17s 580ms/step - loss: 0.0270 - val_loss: 0.0217\n",
      "Epoch 21/35\n",
      "30/30 [==============================] - 17s 583ms/step - loss: 0.0286 - val_loss: 0.0216\n",
      "Epoch 22/35\n",
      "30/30 [==============================] - 18s 587ms/step - loss: 0.0274 - val_loss: 0.0224\n",
      "Epoch 23/35\n",
      "30/30 [==============================] - 17s 583ms/step - loss: 0.0269 - val_loss: 0.0211\n",
      "Epoch 24/35\n",
      "30/30 [==============================] - 18s 588ms/step - loss: 0.0263 - val_loss: 0.0221\n",
      "Epoch 25/35\n",
      "20/30 [===================>..........] - ETA: 5s - loss: 0.0273"
     ]
    }
   ],
   "source": [
    "model_enc_dec_cnn.compile(loss=cfg.loss_metric,\n",
    "                   optimizer=cfg.optimizer)\n",
    "\n",
    "hist = model_enc_dec_cnn.fit(X_train,\n",
    "               y_train,\n",
    "               batch_size=cfg.lstm_batch_size,\n",
    "               epochs=cfg.epochs,\n",
    "               validation_split=cfg.validation_split,\n",
    "               callbacks=cbs,\n",
    "               verbose=True)"
   ]
  }
 ],
 "metadata": {
  "kernelspec": {
   "display_name": "Python 3",
   "language": "python",
   "name": "python3"
  },
  "language_info": {
   "codemirror_mode": {
    "name": "ipython",
    "version": 3
   },
   "file_extension": ".py",
   "mimetype": "text/x-python",
   "name": "python",
   "nbconvert_exporter": "python",
   "pygments_lexer": "ipython3",
   "version": "3.6.7"
  }
 },
 "nbformat": 4,
 "nbformat_minor": 4
}
