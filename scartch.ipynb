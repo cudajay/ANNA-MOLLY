{
 "cells": [
  {
   "cell_type": "code",
   "execution_count": null,
   "metadata": {},
   "outputs": [],
   "source": [
    "!pwd"
   ]
  },
  {
   "cell_type": "code",
   "execution_count": null,
   "metadata": {},
   "outputs": [],
   "source": [
    "import multiprocessing as mp\n",
    "import os\n",
    "import numpy as np\n",
    "import pandas as pd\n",
    "from matplotlib import pyplot as plt\n",
    "from keras.callbacks import History, EarlyStopping, Callback\n",
    "import tensorflow as tf\n",
    "print(tf.version.VERSION)"
   ]
  },
  {
   "cell_type": "code",
   "execution_count": null,
   "outputs": [],
   "source": [
    "import yaml"
   ],
   "metadata": {
    "collapsed": false
   }
  },
  {
   "cell_type": "code",
   "execution_count": null,
   "metadata": {},
   "outputs": [],
   "source": [
    "test_list = [\n",
    "\t{'Course': \"C++\", 'Author': \"Jerry\"},\n",
    "\t{'Course': \"Python\", 'Author': \"Mark\"},\n",
    "\t{'Course': \"Java\", 'Author': \"Paul\"}]\n",
    "\n",
    "res = list(filter(lambda test_list: test_list['Author'] == 'Jerry', test_list))\n",
    "print(res[0]['Author'])\n",
    "\n"
   ]
  },
  {
   "cell_type": "code",
   "execution_count": null,
   "metadata": {},
   "outputs": [],
   "source": [
    "class Parallel_Params:\n",
    "    def __init__(self, config, i, chan_id, rid):\n",
    "        self.config = config\n",
    "        self.i = i\n",
    "        self.chan_id = chan_id\n",
    "        self.id =rid"
   ]
  },
  {
   "cell_type": "code",
   "execution_count": null,
   "metadata": {},
   "outputs": [],
   "source": [
    "l = []\n",
    "for i in range(3):\n",
    "    l.append(Parallel_Params(\"c\", 1,i,2))"
   ]
  },
  {
   "cell_type": "code",
   "execution_count": null,
   "metadata": {},
   "outputs": [],
   "source": [
    "for i in iter(l):\n",
    "    print(i)"
   ]
  },
  {
   "cell_type": "code",
   "execution_count": null,
   "metadata": {},
   "outputs": [],
   "source": [
    "os.chdir('telemanom')\n",
    "os.getcwd()"
   ]
  },
  {
   "cell_type": "code",
   "execution_count": null,
   "metadata": {},
   "outputs": [],
   "source": [
    "from channel import Channel\n",
    "from helpers import Config"
   ]
  },
  {
   "cell_type": "code",
   "execution_count": null,
   "metadata": {},
   "outputs": [],
   "source": [
    "cfg = Config(\"config.yaml\")"
   ]
  },
  {
   "cell_type": "code",
   "execution_count": null,
   "metadata": {},
   "outputs": [],
   "source": [
    "ch = Channel(cfg, 'A-2')"
   ]
  },
  {
   "cell_type": "code",
   "execution_count": null,
   "metadata": {},
   "outputs": [],
   "source": [
    "ch.load_data()"
   ]
  },
  {
   "cell_type": "code",
   "execution_count": null,
   "metadata": {},
   "outputs": [],
   "source": [
    "trn = np.load(\"../data/train/A-2.npy\")"
   ]
  },
  {
   "cell_type": "code",
   "execution_count": null,
   "metadata": {},
   "outputs": [],
   "source": [
    "data = []\n",
    "for i in range(len(trn) - cfg.l_s - cfg.n_predictions):\n",
    "    data.append(trn[i:i + cfg.l_s + cfg.n_predictions])\n",
    "data = np.array(data)\n",
    "\n",
    "assert len(data.shape) == 3\n",
    "np.random.shuffle(data)\n",
    "X_train = data[:, :-cfg.n_predictions, :]\n",
    "y_train = data[:, -cfg.n_predictions:, 0]  # telemetry value is at position 0"
   ]
  },
  {
   "cell_type": "code",
   "execution_count": null,
   "metadata": {},
   "outputs": [],
   "source": [
    "X_train.shape"
   ]
  },
  {
   "cell_type": "code",
   "execution_count": null,
   "metadata": {},
   "outputs": [],
   "source": [
    "df[0].plot()"
   ]
  },
  {
   "cell_type": "code",
   "execution_count": null,
   "metadata": {},
   "outputs": [],
   "source": [
    "from keras.layers.recurrent import LSTM\n",
    "from keras.layers import TimeDistributed\n",
    "from keras.layers.core import Dense, Activation, Dropout, Flatten, RepeatVector\n",
    "from keras.layers.convolutional import Conv1D, Conv2D\n",
    "from keras.layers.convolutional import MaxPooling1D\n",
    "from keras.models import Sequential"
   ]
  },
  {
   "cell_type": "code",
   "execution_count": null,
   "metadata": {},
   "outputs": [],
   "source": [
    "model = Sequential()\n",
    "\n",
    "model.add(LSTM(\n",
    "    cfg.layers[0],\n",
    "    input_shape=(None, trn.shape[1]),\n",
    "    return_sequences=True))\n",
    "model.add(Dropout(cfg.dropout))\n",
    "\n",
    "model.add(LSTM(\n",
    "    cfg.layers[1],\n",
    "    return_sequences=False))\n",
    "model.add(Dropout(cfg.dropout))\n",
    "\n",
    "model.add(Dense(\n",
    "    cfg.n_predictions))\n",
    "model.add(Activation('linear'))"
   ]
  },
  {
   "cell_type": "code",
   "execution_count": null,
   "metadata": {},
   "outputs": [],
   "source": [
    "cfg.n_predictions"
   ]
  },
  {
   "cell_type": "code",
   "execution_count": null,
   "metadata": {},
   "outputs": [],
   "source": [
    "for i in range(len(model.layers)):\n",
    "    print(model.layers[i].name)\n",
    "    print(model.layers[i].input_shape)\n",
    "    print(model.layers[i].output_shape)"
   ]
  },
  {
   "cell_type": "code",
   "execution_count": null,
   "metadata": {},
   "outputs": [],
   "source": [
    "model = Sequential()\n",
    "model.add(Conv1D(filters=64,\n",
    "                 kernel_size=10,\n",
    "                 activation='relu',\n",
    "                 input_shape=(None, 25)))\n",
    "model.add(Conv1D(filters=64,\n",
    "                 kernel_size=3,\n",
    "                 activation='relu'))\n",
    "model.add(Dropout(cfg.dropout))\n",
    "model.add(Dense(\n",
    "    25))\n",
    "model.add(LSTM(\n",
    "    cfg.layers[1],\n",
    "    return_sequences=False))\n",
    "model.add(Dropout(cfg.dropout))\n",
    "\n",
    "model.add(Dense(\n",
    "    cfg.n_predictions))\n",
    "model.add(Activation('linear'))\n",
    "model.add(Dense(\n",
    "    cfg.n_predictions))\n",
    "model.add(Activation('linear'))"
   ]
  },
  {
   "cell_type": "code",
   "execution_count": null,
   "metadata": {},
   "outputs": [],
   "source": [
    "cbs = [History(), EarlyStopping(monitor='val_loss',\n",
    "                                patience=cfg.patience,\n",
    "                                min_delta=cfg.min_delta,\n",
    "                                verbose=0)]"
   ]
  },
  {
   "cell_type": "code",
   "execution_count": null,
   "metadata": {},
   "outputs": [],
   "source": [
    "model.compile(loss=cfg.loss_metric,\n",
    "                   optimizer=cfg.optimizer)\n",
    "\n",
    "hist4 = model.fit(X_train,\n",
    "               y_train,\n",
    "               batch_size=cfg.lstm_batch_size,\n",
    "               epochs=cfg.epochs,\n",
    "               validation_split=cfg.validation_split,\n",
    "               callbacks=cbs,\n",
    "               verbose=True)"
   ]
  },
  {
   "cell_type": "code",
   "execution_count": null,
   "metadata": {},
   "outputs": [],
   "source": [
    "from matplotlib import pyplot as plt\n",
    "fig, ax = plt.subplots(2,2)\n",
    "ax[0, 0].plot(hist.history['loss'])\n",
    "ax[0, 1].plot(hist2.history['loss'])\n",
    "ax[1, 0].plot(hist.history['val_loss'])\n",
    "ax[1, 1].plot(hist2.history['val_loss'])"
   ]
  },
  {
   "cell_type": "code",
   "execution_count": null,
   "metadata": {},
   "outputs": [],
   "source": [
    "plt.plot(hist4.history['loss'])"
   ]
  },
  {
   "cell_type": "code",
   "execution_count": null,
   "metadata": {},
   "outputs": [],
   "source": [
    "plt.plot(hist4.history['val_loss'])"
   ]
  },
  {
   "cell_type": "code",
   "execution_count": null,
   "outputs": [],
   "source": [
    "def objective(args):\n",
    "    case, val = args\n",
    "    if case == 'case 1':\n",
    "        return val\n",
    "    else:\n",
    "        return val ** 2"
   ],
   "metadata": {
    "collapsed": false
   }
  },
  {
   "cell_type": "code",
   "execution_count": null,
   "outputs": [],
   "source": [
    "from hyperopt import hp"
   ],
   "metadata": {
    "collapsed": false
   }
  }
 ],
 "metadata": {
  "kernelspec": {
   "display_name": "Python 3",
   "language": "python",
   "name": "python3"
  },
  "language_info": {
   "codemirror_mode": {
    "name": "ipython",
    "version": 3
   },
   "file_extension": ".py",
   "mimetype": "text/x-python",
   "name": "python",
   "nbconvert_exporter": "python",
   "pygments_lexer": "ipython3",
   "version": "3.6.7"
  }
 },
 "nbformat": 4,
 "nbformat_minor": 4
}
