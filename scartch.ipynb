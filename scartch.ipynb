{
 "cells": [
  {
   "cell_type": "code",
   "execution_count": 26,
   "metadata": {},
   "outputs": [
    {
     "name": "stdout",
     "output_type": "stream",
     "text": [
      "/users/juanjose/git/telemanom/telemanom\n"
     ]
    }
   ],
   "source": [
    "!pwd"
   ]
  },
  {
   "cell_type": "code",
   "execution_count": 2,
   "metadata": {},
   "outputs": [
    {
     "name": "stdout",
     "output_type": "stream",
     "text": [
      "2.6.2\n"
     ]
    }
   ],
   "source": [
    "import multiprocessing as mp\n",
    "import os\n",
    "import numpy as np\n",
    "import pandas as pd\n",
    "from matplotlib import pyplot as plt\n",
    "from keras.callbacks import History, EarlyStopping, Callback\n",
    "import tensorflow as tf\n",
    "print(tf.version.VERSION)"
   ]
  },
  {
   "cell_type": "code",
   "execution_count": 3,
   "metadata": {},
   "outputs": [
    {
     "name": "stdout",
     "output_type": "stream",
     "text": [
      "Jerry\n"
     ]
    }
   ],
   "source": [
    "test_list = [\n",
    "\t{'Course': \"C++\", 'Author': \"Jerry\"},\n",
    "\t{'Course': \"Python\", 'Author': \"Mark\"},\n",
    "\t{'Course': \"Java\", 'Author': \"Paul\"}]\n",
    "\n",
    "res = list(filter(lambda test_list: test_list['Author'] == 'Jerry', test_list))\n",
    "print(res[0]['Author'])\n",
    "\n"
   ]
  },
  {
   "cell_type": "code",
   "execution_count": 4,
   "metadata": {},
   "outputs": [],
   "source": [
    "class Parallel_Params:\n",
    "    def __init__(self, config, i, chan_id, rid):\n",
    "        self.config = config\n",
    "        self.i = i\n",
    "        self.chan_id = chan_id\n",
    "        self.id =rid"
   ]
  },
  {
   "cell_type": "code",
   "execution_count": 5,
   "metadata": {},
   "outputs": [],
   "source": [
    "l = []\n",
    "for i in range(3):\n",
    "    l.append(Parallel_Params(\"c\", 1,i,2))"
   ]
  },
  {
   "cell_type": "code",
   "execution_count": 6,
   "metadata": {},
   "outputs": [
    {
     "name": "stdout",
     "output_type": "stream",
     "text": [
      "<__main__.Parallel_Params object at 0x2aab148ff6d8>\n",
      "<__main__.Parallel_Params object at 0x2aab148ff780>\n",
      "<__main__.Parallel_Params object at 0x2aab148ffb70>\n"
     ]
    }
   ],
   "source": [
    "for i in iter(l):\n",
    "    print(i)"
   ]
  },
  {
   "cell_type": "code",
   "execution_count": 9,
   "metadata": {},
   "outputs": [
    {
     "data": {
      "text/plain": [
       "'/users/juanjose/git/telemanom/telemanom'"
      ]
     },
     "execution_count": 9,
     "metadata": {},
     "output_type": "execute_result"
    }
   ],
   "source": [
    "os.chdir('telemanom')\n",
    "os.getcwd()"
   ]
  },
  {
   "cell_type": "code",
   "execution_count": 10,
   "metadata": {},
   "outputs": [],
   "source": [
    "from channel import Channel\n",
    "from helpers import Config"
   ]
  },
  {
   "cell_type": "code",
   "execution_count": 11,
   "metadata": {},
   "outputs": [],
   "source": [
    "cfg = Config(\"config.yaml\")"
   ]
  },
  {
   "cell_type": "code",
   "execution_count": 12,
   "metadata": {},
   "outputs": [],
   "source": [
    "ch = Channel(cfg, 'A-2')"
   ]
  },
  {
   "cell_type": "code",
   "execution_count": 13,
   "metadata": {},
   "outputs": [
    {
     "name": "stderr",
     "output_type": "stream",
     "text": [
      "[Errno 2] No such file or directory: 'data/train/A-2.npy'\n",
      "Source data not found, may need to add data to repo: <link>\n"
     ]
    },
    {
     "ename": "TypeError",
     "evalue": "object of type 'NoneType' has no len()",
     "output_type": "error",
     "traceback": [
      "\u001b[0;31m---------------------------------------------------------------------------\u001b[0m",
      "\u001b[0;31mTypeError\u001b[0m                                 Traceback (most recent call last)",
      "\u001b[0;32m<ipython-input-13-d579d112aafd>\u001b[0m in \u001b[0;36m<module>\u001b[0;34m\u001b[0m\n\u001b[0;32m----> 1\u001b[0;31m \u001b[0mch\u001b[0m\u001b[0;34m.\u001b[0m\u001b[0mload_data\u001b[0m\u001b[0;34m(\u001b[0m\u001b[0;34m)\u001b[0m\u001b[0;34m\u001b[0m\u001b[0;34m\u001b[0m\u001b[0m\n\u001b[0m",
      "\u001b[0;32m~/git/telemanom/telemanom/channel.py\u001b[0m in \u001b[0;36mload_data\u001b[0;34m(self)\u001b[0m\n\u001b[1;32m     79\u001b[0m             \u001b[0mlogger\u001b[0m\u001b[0;34m.\u001b[0m\u001b[0mcritical\u001b[0m\u001b[0;34m(\u001b[0m\u001b[0;34m\"Source data not found, may need to add data to repo: <link>\"\u001b[0m\u001b[0;34m)\u001b[0m\u001b[0;34m\u001b[0m\u001b[0;34m\u001b[0m\u001b[0m\n\u001b[1;32m     80\u001b[0m \u001b[0;34m\u001b[0m\u001b[0m\n\u001b[0;32m---> 81\u001b[0;31m         \u001b[0mself\u001b[0m\u001b[0;34m.\u001b[0m\u001b[0mshape_data\u001b[0m\u001b[0;34m(\u001b[0m\u001b[0mself\u001b[0m\u001b[0;34m.\u001b[0m\u001b[0mtrain\u001b[0m\u001b[0;34m)\u001b[0m\u001b[0;34m\u001b[0m\u001b[0;34m\u001b[0m\u001b[0m\n\u001b[0m\u001b[1;32m     82\u001b[0m         \u001b[0mself\u001b[0m\u001b[0;34m.\u001b[0m\u001b[0mshape_data\u001b[0m\u001b[0;34m(\u001b[0m\u001b[0mself\u001b[0m\u001b[0;34m.\u001b[0m\u001b[0mtest\u001b[0m\u001b[0;34m,\u001b[0m \u001b[0mtrain\u001b[0m\u001b[0;34m=\u001b[0m\u001b[0;32mFalse\u001b[0m\u001b[0;34m)\u001b[0m\u001b[0;34m\u001b[0m\u001b[0;34m\u001b[0m\u001b[0m\n",
      "\u001b[0;32m~/git/telemanom/telemanom/channel.py\u001b[0m in \u001b[0;36mshape_data\u001b[0;34m(self, arr, train)\u001b[0m\n\u001b[1;32m     53\u001b[0m \u001b[0;34m\u001b[0m\u001b[0m\n\u001b[1;32m     54\u001b[0m         \u001b[0mdata\u001b[0m \u001b[0;34m=\u001b[0m \u001b[0;34m[\u001b[0m\u001b[0;34m]\u001b[0m\u001b[0;34m\u001b[0m\u001b[0;34m\u001b[0m\u001b[0m\n\u001b[0;32m---> 55\u001b[0;31m         \u001b[0;32mfor\u001b[0m \u001b[0mi\u001b[0m \u001b[0;32min\u001b[0m \u001b[0mrange\u001b[0m\u001b[0;34m(\u001b[0m\u001b[0mlen\u001b[0m\u001b[0;34m(\u001b[0m\u001b[0marr\u001b[0m\u001b[0;34m)\u001b[0m \u001b[0;34m-\u001b[0m \u001b[0mself\u001b[0m\u001b[0;34m.\u001b[0m\u001b[0mconfig\u001b[0m\u001b[0;34m.\u001b[0m\u001b[0ml_s\u001b[0m \u001b[0;34m-\u001b[0m \u001b[0mself\u001b[0m\u001b[0;34m.\u001b[0m\u001b[0mconfig\u001b[0m\u001b[0;34m.\u001b[0m\u001b[0mn_predictions\u001b[0m\u001b[0;34m)\u001b[0m\u001b[0;34m:\u001b[0m\u001b[0;34m\u001b[0m\u001b[0;34m\u001b[0m\u001b[0m\n\u001b[0m\u001b[1;32m     56\u001b[0m             \u001b[0mdata\u001b[0m\u001b[0;34m.\u001b[0m\u001b[0mappend\u001b[0m\u001b[0;34m(\u001b[0m\u001b[0marr\u001b[0m\u001b[0;34m[\u001b[0m\u001b[0mi\u001b[0m\u001b[0;34m:\u001b[0m\u001b[0mi\u001b[0m \u001b[0;34m+\u001b[0m \u001b[0mself\u001b[0m\u001b[0;34m.\u001b[0m\u001b[0mconfig\u001b[0m\u001b[0;34m.\u001b[0m\u001b[0ml_s\u001b[0m \u001b[0;34m+\u001b[0m \u001b[0mself\u001b[0m\u001b[0;34m.\u001b[0m\u001b[0mconfig\u001b[0m\u001b[0;34m.\u001b[0m\u001b[0mn_predictions\u001b[0m\u001b[0;34m]\u001b[0m\u001b[0;34m)\u001b[0m\u001b[0;34m\u001b[0m\u001b[0;34m\u001b[0m\u001b[0m\n\u001b[1;32m     57\u001b[0m         \u001b[0mdata\u001b[0m \u001b[0;34m=\u001b[0m \u001b[0mnp\u001b[0m\u001b[0;34m.\u001b[0m\u001b[0marray\u001b[0m\u001b[0;34m(\u001b[0m\u001b[0mdata\u001b[0m\u001b[0;34m)\u001b[0m\u001b[0;34m\u001b[0m\u001b[0;34m\u001b[0m\u001b[0m\n",
      "\u001b[0;31mTypeError\u001b[0m: object of type 'NoneType' has no len()"
     ]
    }
   ],
   "source": [
    "ch.load_data()"
   ]
  },
  {
   "cell_type": "code",
   "execution_count": 14,
   "metadata": {},
   "outputs": [],
   "source": [
    "trn = np.load(\"../data/train/A-2.npy\")"
   ]
  },
  {
   "cell_type": "code",
   "execution_count": 15,
   "metadata": {},
   "outputs": [],
   "source": [
    "data = []\n",
    "for i in range(len(trn) - cfg.l_s - cfg.n_predictions):\n",
    "    data.append(trn[i:i + cfg.l_s + cfg.n_predictions])\n",
    "data = np.array(data)\n",
    "\n",
    "assert len(data.shape) == 3\n",
    "np.random.shuffle(data)\n",
    "X_train = data[:, :-cfg.n_predictions, :]\n",
    "y_train = data[:, -cfg.n_predictions:, 0]  # telemetry value is at position 0"
   ]
  },
  {
   "cell_type": "code",
   "execution_count": 16,
   "metadata": {},
   "outputs": [
    {
     "data": {
      "text/plain": [
       "(2388, 250, 25)"
      ]
     },
     "execution_count": 16,
     "metadata": {},
     "output_type": "execute_result"
    }
   ],
   "source": [
    "X_train.shape"
   ]
  },
  {
   "cell_type": "code",
   "execution_count": 17,
   "metadata": {},
   "outputs": [
    {
     "ename": "NameError",
     "evalue": "name 'df' is not defined",
     "output_type": "error",
     "traceback": [
      "\u001b[0;31m---------------------------------------------------------------------------\u001b[0m",
      "\u001b[0;31mNameError\u001b[0m                                 Traceback (most recent call last)",
      "\u001b[0;32m<ipython-input-17-b5f9305ef641>\u001b[0m in \u001b[0;36m<module>\u001b[0;34m\u001b[0m\n\u001b[0;32m----> 1\u001b[0;31m \u001b[0mdf\u001b[0m\u001b[0;34m[\u001b[0m\u001b[0;36m0\u001b[0m\u001b[0;34m]\u001b[0m\u001b[0;34m.\u001b[0m\u001b[0mplot\u001b[0m\u001b[0;34m(\u001b[0m\u001b[0;34m)\u001b[0m\u001b[0;34m\u001b[0m\u001b[0;34m\u001b[0m\u001b[0m\n\u001b[0m",
      "\u001b[0;31mNameError\u001b[0m: name 'df' is not defined"
     ]
    }
   ],
   "source": [
    "df[0].plot()"
   ]
  },
  {
   "cell_type": "code",
   "execution_count": 33,
   "metadata": {},
   "outputs": [],
   "source": [
    "from keras.layers.recurrent import LSTM\n",
    "from keras.layers import TimeDistributed\n",
    "from keras.layers.core import Dense, Activation, Dropout, Flatten, RepeatVector\n",
    "from keras.layers.convolutional import Conv1D, Conv2D\n",
    "from keras.layers.convolutional import MaxPooling1D\n",
    "from keras.models import Sequential"
   ]
  },
  {
   "cell_type": "code",
   "execution_count": 27,
   "metadata": {},
   "outputs": [],
   "source": [
    "model = Sequential()\n",
    "\n",
    "model.add(LSTM(\n",
    "    cfg.layers[0],\n",
    "    input_shape=(None, trn.shape[1]),\n",
    "    return_sequences=True))\n",
    "model.add(Dropout(cfg.dropout))\n",
    "\n",
    "model.add(LSTM(\n",
    "    cfg.layers[1],\n",
    "    return_sequences=False))\n",
    "model.add(Dropout(cfg.dropout))\n",
    "\n",
    "model.add(Dense(\n",
    "    cfg.n_predictions))\n",
    "model.add(Activation('linear'))"
   ]
  },
  {
   "cell_type": "code",
   "execution_count": 52,
   "metadata": {},
   "outputs": [
    {
     "data": {
      "text/plain": [
       "10"
      ]
     },
     "execution_count": 52,
     "metadata": {},
     "output_type": "execute_result"
    }
   ],
   "source": [
    "cfg.n_predictions"
   ]
  },
  {
   "cell_type": "code",
   "execution_count": 54,
   "metadata": {},
   "outputs": [
    {
     "name": "stdout",
     "output_type": "stream",
     "text": [
      "conv2d_4\n",
      "(None, None, 250, 25)\n",
      "(None, None, 248, 64)\n",
      "dropout_8\n",
      "(None, None, 248, 64)\n",
      "(None, None, 248, 64)\n",
      "dense_9\n",
      "(None, None, 248, 64)\n",
      "(None, None, 248, 25)\n",
      "flatten_2\n",
      "(None, None, 248, 25)\n",
      "(None, None)\n"
     ]
    }
   ],
   "source": [
    "for i in range(len(model.layers)):\n",
    "    print(model.layers[i].name)\n",
    "    print(model.layers[i].input_shape)\n",
    "    print(model.layers[i].output_shape)"
   ]
  },
  {
   "cell_type": "code",
   "execution_count": 65,
   "metadata": {},
   "outputs": [],
   "source": [
    "model = Sequential()\n",
    "model.add(Conv1D(filters=64,\n",
    "                 kernel_size=10,\n",
    "                 activation='relu',\n",
    "                 input_shape=(None, 25)))\n",
    "model.add(Conv1D(filters=64,\n",
    "                 kernel_size=3,\n",
    "                 activation='relu'))\n",
    "model.add(Dropout(cfg.dropout))\n",
    "model.add(Dense(\n",
    "    25))\n",
    "model.add(LSTM(\n",
    "    cfg.layers[1],\n",
    "    return_sequences=False))\n",
    "model.add(Dropout(cfg.dropout))\n",
    "\n",
    "model.add(Dense(\n",
    "    cfg.n_predictions))\n",
    "model.add(Activation('linear'))\n",
    "model.add(Dense(\n",
    "    cfg.n_predictions))\n",
    "model.add(Activation('linear'))"
   ]
  },
  {
   "cell_type": "code",
   "execution_count": 23,
   "metadata": {},
   "outputs": [],
   "source": [
    "cbs = [History(), EarlyStopping(monitor='val_loss',\n",
    "                                patience=cfg.patience,\n",
    "                                min_delta=cfg.min_delta,\n",
    "                                verbose=0)]"
   ]
  },
  {
   "cell_type": "code",
   "execution_count": 66,
   "metadata": {},
   "outputs": [
    {
     "name": "stdout",
     "output_type": "stream",
     "text": [
      "Epoch 1/35\n",
      "30/30 [==============================] - 11s 272ms/step - loss: 0.2443 - val_loss: 0.1288\n",
      "Epoch 2/35\n",
      "30/30 [==============================] - 8s 261ms/step - loss: 0.1012 - val_loss: 0.0501\n",
      "Epoch 3/35\n",
      "30/30 [==============================] - 8s 260ms/step - loss: 0.0553 - val_loss: 0.0386\n",
      "Epoch 4/35\n",
      "30/30 [==============================] - 8s 263ms/step - loss: 0.0464 - val_loss: 0.0338\n",
      "Epoch 5/35\n",
      "30/30 [==============================] - 8s 262ms/step - loss: 0.0404 - val_loss: 0.0317\n",
      "Epoch 6/35\n",
      "30/30 [==============================] - 8s 260ms/step - loss: 0.0389 - val_loss: 0.0307\n",
      "Epoch 7/35\n",
      "30/30 [==============================] - 8s 262ms/step - loss: 0.0381 - val_loss: 0.0311\n",
      "Epoch 8/35\n",
      "30/30 [==============================] - 8s 262ms/step - loss: 0.0361 - val_loss: 0.0292\n",
      "Epoch 9/35\n",
      "30/30 [==============================] - 8s 264ms/step - loss: 0.0345 - val_loss: 0.0292\n",
      "Epoch 10/35\n",
      "30/30 [==============================] - 8s 261ms/step - loss: 0.0336 - val_loss: 0.0303\n",
      "Epoch 11/35\n",
      "30/30 [==============================] - 8s 262ms/step - loss: 0.0325 - val_loss: 0.0265\n",
      "Epoch 12/35\n",
      "30/30 [==============================] - 8s 265ms/step - loss: 0.0312 - val_loss: 0.0266\n",
      "Epoch 13/35\n",
      "30/30 [==============================] - 8s 261ms/step - loss: 0.0307 - val_loss: 0.0262\n",
      "Epoch 14/35\n",
      "30/30 [==============================] - 8s 262ms/step - loss: 0.0321 - val_loss: 0.0293\n",
      "Epoch 15/35\n",
      "30/30 [==============================] - 8s 265ms/step - loss: 0.0307 - val_loss: 0.0255\n",
      "Epoch 16/35\n",
      "30/30 [==============================] - 8s 260ms/step - loss: 0.0296 - val_loss: 0.0252\n",
      "Epoch 17/35\n",
      "30/30 [==============================] - 8s 262ms/step - loss: 0.0297 - val_loss: 0.0254\n",
      "Epoch 18/35\n",
      "30/30 [==============================] - 8s 264ms/step - loss: 0.0292 - val_loss: 0.0272\n",
      "Epoch 19/35\n",
      "30/30 [==============================] - 8s 262ms/step - loss: 0.0295 - val_loss: 0.0257\n",
      "Epoch 20/35\n",
      "30/30 [==============================] - 8s 265ms/step - loss: 0.0291 - val_loss: 0.0242\n",
      "Epoch 21/35\n",
      "30/30 [==============================] - 8s 265ms/step - loss: 0.0282 - val_loss: 0.0253\n",
      "Epoch 22/35\n",
      "30/30 [==============================] - 9s 309ms/step - loss: 0.0285 - val_loss: 0.0250\n",
      "Epoch 23/35\n",
      "30/30 [==============================] - 10s 327ms/step - loss: 0.0277 - val_loss: 0.0239\n",
      "Epoch 24/35\n",
      "30/30 [==============================] - 10s 330ms/step - loss: 0.0271 - val_loss: 0.0242\n",
      "Epoch 25/35\n",
      "30/30 [==============================] - 10s 330ms/step - loss: 0.0270 - val_loss: 0.0234\n",
      "Epoch 26/35\n",
      "30/30 [==============================] - 10s 327ms/step - loss: 0.0269 - val_loss: 0.0235\n",
      "Epoch 27/35\n",
      "30/30 [==============================] - 10s 329ms/step - loss: 0.0264 - val_loss: 0.0231\n",
      "Epoch 28/35\n",
      "30/30 [==============================] - 10s 325ms/step - loss: 0.0258 - val_loss: 0.0232\n",
      "Epoch 29/35\n",
      "30/30 [==============================] - 8s 271ms/step - loss: 0.0261 - val_loss: 0.0239\n",
      "Epoch 30/35\n",
      "30/30 [==============================] - 8s 266ms/step - loss: 0.0256 - val_loss: 0.0235\n",
      "Epoch 31/35\n",
      "30/30 [==============================] - 8s 261ms/step - loss: 0.0258 - val_loss: 0.0226\n",
      "Epoch 32/35\n",
      "30/30 [==============================] - 8s 265ms/step - loss: 0.0256 - val_loss: 0.0233\n",
      "Epoch 33/35\n",
      "30/30 [==============================] - 8s 265ms/step - loss: 0.0260 - val_loss: 0.0247\n",
      "Epoch 34/35\n",
      "30/30 [==============================] - 8s 261ms/step - loss: 0.0256 - val_loss: 0.0230\n",
      "Epoch 35/35\n",
      "30/30 [==============================] - 8s 269ms/step - loss: 0.0255 - val_loss: 0.0220\n"
     ]
    }
   ],
   "source": [
    "model.compile(loss=cfg.loss_metric,\n",
    "                   optimizer=cfg.optimizer)\n",
    "\n",
    "hist4 = model.fit(X_train,\n",
    "               y_train,\n",
    "               batch_size=cfg.lstm_batch_size,\n",
    "               epochs=cfg.epochs,\n",
    "               validation_split=cfg.validation_split,\n",
    "               callbacks=cbs,\n",
    "               verbose=True)"
   ]
  },
  {
   "cell_type": "code",
   "execution_count": 45,
   "metadata": {},
   "outputs": [
    {
     "data": {
      "text/plain": [
       "[<matplotlib.lines.Line2D at 0x2aab2b716588>]"
      ]
     },
     "execution_count": 45,
     "metadata": {},
     "output_type": "execute_result"
    },
    {
     "data": {
      "image/png": "[encoded data removed]",
      "text/plain": [
       "<Figure size 432x288 with 4 Axes>"
      ]
     },
     "metadata": {
      "needs_background": "light"
     },
     "output_type": "display_data"
    }
   ],
   "source": [
    "from matplotlib import pyplot as plt\n",
    "fig, ax = plt.subplots(2,2)\n",
    "ax[0, 0].plot(hist.history['loss'])\n",
    "ax[0, 1].plot(hist2.history['loss'])\n",
    "ax[1, 0].plot(hist.history['val_loss'])\n",
    "ax[1, 1].plot(hist2.history['val_loss'])"
   ]
  },
  {
   "cell_type": "code",
   "execution_count": 67,
   "metadata": {},
   "outputs": [
    {
     "data": {
      "text/plain": [
       "[<matplotlib.lines.Line2D at 0x2aab36a1c438>]"
      ]
     },
     "execution_count": 67,
     "metadata": {},
     "output_type": "execute_result"
    },
    {
     "data": {
      "image/png": "[encoded data removed]",
      "text/plain": [
       "<Figure size 432x288 with 1 Axes>"
      ]
     },
     "metadata": {
      "needs_background": "light"
     },
     "output_type": "display_data"
    }
   ],
   "source": [
    "plt.plot(hist4.history['loss'])"
   ]
  },
  {
   "cell_type": "code",
   "execution_count": 68,
   "metadata": {},
   "outputs": [
    {
     "data": {
      "text/plain": [
       "[<matplotlib.lines.Line2D at 0x2aab366e3198>]"
      ]
     },
     "execution_count": 68,
     "metadata": {},
     "output_type": "execute_result"
    },
    {
     "data": {
      "image/png": "[encoded data removed]",
      "text/plain": [
       "<Figure size 432x288 with 1 Axes>"
      ]
     },
     "metadata": {
      "needs_background": "light"
     },
     "output_type": "display_data"
    }
   ],
   "source": [
    "plt.plot(hist4.history['val_loss'])"
   ]
  }
 ],
 "metadata": {
  "kernelspec": {
   "display_name": "Python 3",
   "language": "python",
   "name": "python3"
  },
  "language_info": {
   "codemirror_mode": {
    "name": "ipython",
    "version": 3
   },
   "file_extension": ".py",
   "mimetype": "text/x-python",
   "name": "python",
   "nbconvert_exporter": "python",
   "pygments_lexer": "ipython3",
   "version": "3.6.7"
  }
 },
 "nbformat": 4,
 "nbformat_minor": 4
}
